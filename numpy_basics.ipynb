{
 "cells": [
  {
   "cell_type": "code",
   "execution_count": 11,
   "id": "e7eb6d28-c1a0-4623-a7e1-abb6a31e4c21",
   "metadata": {},
   "outputs": [],
   "source": [
    "w1,w2,w3 =0.3, 0.2,0.5"
   ]
  },
  {
   "cell_type": "code",
   "execution_count": 7,
   "id": "724fbfc6-3778-4937-bf58-d908a130ae52",
   "metadata": {},
   "outputs": [],
   "source": [
    "kanto = [73, 67, 43]\n",
    "johto = [91, 88, 64]\n",
    "hoenn = [87, 134, 58]\n",
    "sinnoh = [102, 43, 37]\n",
    "unova = [69, 96, 70]"
   ]
  },
  {
   "cell_type": "code",
   "execution_count": 15,
   "id": "e499ee73-f4dc-48f0-90bd-0b04fa07b520",
   "metadata": {},
   "outputs": [],
   "source": [
    "weights = [w1,w2,w3]"
   ]
  },
  {
   "cell_type": "code",
   "execution_count": 3,
   "id": "71b5f805-b536-4bbd-92e4-8920de53c449",
   "metadata": {},
   "outputs": [],
   "source": [
    "def crop_yield(location, weights):\n",
    "    return sum(x * w for x,w in zip(location,weights))"
   ]
  },
  {
   "cell_type": "code",
   "execution_count": 17,
   "id": "175ae035-5323-4986-9cb6-6fcb4987b739",
   "metadata": {},
   "outputs": [
    {
     "data": {
      "text/plain": [
       "76.9"
      ]
     },
     "execution_count": 17,
     "metadata": {},
     "output_type": "execute_result"
    }
   ],
   "source": [
    "crop_yield(johto, weights)"
   ]
  },
  {
   "cell_type": "code",
   "execution_count": 4,
   "id": "0dded14c-4075-49db-8219-0469d549a381",
   "metadata": {},
   "outputs": [],
   "source": [
    "import numpy as np"
   ]
  },
  {
   "cell_type": "markdown",
   "id": "9a5ba86b-6049-48c3-9597-6bb4017ac786",
   "metadata": {},
   "source": [
    "Numpy Arrays can be created using the np.array function"
   ]
  },
  {
   "cell_type": "code",
   "execution_count": 28,
   "id": "7263341d-4609-4b77-b5f0-831f1ac86397",
   "metadata": {},
   "outputs": [],
   "source": [
    "kanto=np.array([73,67,43])"
   ]
  },
  {
   "cell_type": "code",
   "execution_count": 30,
   "id": "49162f20-19d3-4b32-bd3a-1df90a9282a7",
   "metadata": {},
   "outputs": [
    {
     "data": {
      "text/plain": [
       "array([73, 67, 43])"
      ]
     },
     "execution_count": 30,
     "metadata": {},
     "output_type": "execute_result"
    }
   ],
   "source": [
    "kanto"
   ]
  },
  {
   "cell_type": "code",
   "execution_count": 32,
   "id": "96023e83-c6c6-4b9e-9db6-6a09d05de57a",
   "metadata": {},
   "outputs": [],
   "source": [
    "weights = np.array([w1,w2,w3])"
   ]
  },
  {
   "cell_type": "code",
   "execution_count": 34,
   "id": "036a1598-0585-47ed-989f-dfeef22a394c",
   "metadata": {},
   "outputs": [
    {
     "data": {
      "text/plain": [
       "array([0.3, 0.2, 0.5])"
      ]
     },
     "execution_count": 34,
     "metadata": {},
     "output_type": "execute_result"
    }
   ],
   "source": [
    "weights"
   ]
  },
  {
   "cell_type": "code",
   "execution_count": 36,
   "id": "5afc7cca-8d01-43b2-824c-90f3d3752dce",
   "metadata": {},
   "outputs": [
    {
     "data": {
      "text/plain": [
       "56.8"
      ]
     },
     "execution_count": 36,
     "metadata": {},
     "output_type": "execute_result"
    }
   ],
   "source": [
    "np.dot(kanto, weights)"
   ]
  },
  {
   "cell_type": "code",
   "execution_count": 38,
   "id": "ef1dd20d-c892-4702-83d8-795607b66a8b",
   "metadata": {},
   "outputs": [
    {
     "name": "stdout",
     "output_type": "stream",
     "text": [
      "Help on _ArrayFunctionDispatcher in module numpy:\n",
      "\n",
      "dot(...)\n",
      "    dot(a, b, out=None)\n",
      "    \n",
      "    Dot product of two arrays. Specifically,\n",
      "    \n",
      "    - If both `a` and `b` are 1-D arrays, it is inner product of vectors\n",
      "      (without complex conjugation).\n",
      "    \n",
      "    - If both `a` and `b` are 2-D arrays, it is matrix multiplication,\n",
      "      but using :func:`matmul` or ``a @ b`` is preferred.\n",
      "    \n",
      "    - If either `a` or `b` is 0-D (scalar), it is equivalent to\n",
      "      :func:`multiply` and using ``numpy.multiply(a, b)`` or ``a * b`` is\n",
      "      preferred.\n",
      "    \n",
      "    - If `a` is an N-D array and `b` is a 1-D array, it is a sum product over\n",
      "      the last axis of `a` and `b`.\n",
      "    \n",
      "    - If `a` is an N-D array and `b` is an M-D array (where ``M>=2``), it is a\n",
      "      sum product over the last axis of `a` and the second-to-last axis of\n",
      "      `b`::\n",
      "    \n",
      "        dot(a, b)[i,j,k,m] = sum(a[i,j,:] * b[k,:,m])\n",
      "    \n",
      "    It uses an optimized BLAS library when possible (see `numpy.linalg`).\n",
      "    \n",
      "    Parameters\n",
      "    ----------\n",
      "    a : array_like\n",
      "        First argument.\n",
      "    b : array_like\n",
      "        Second argument.\n",
      "    out : ndarray, optional\n",
      "        Output argument. This must have the exact kind that would be returned\n",
      "        if it was not used. In particular, it must have the right type, must be\n",
      "        C-contiguous, and its dtype must be the dtype that would be returned\n",
      "        for `dot(a,b)`. This is a performance feature. Therefore, if these\n",
      "        conditions are not met, an exception is raised, instead of attempting\n",
      "        to be flexible.\n",
      "    \n",
      "    Returns\n",
      "    -------\n",
      "    output : ndarray\n",
      "        Returns the dot product of `a` and `b`.  If `a` and `b` are both\n",
      "        scalars or both 1-D arrays then a scalar is returned; otherwise\n",
      "        an array is returned.\n",
      "        If `out` is given, then it is returned.\n",
      "    \n",
      "    Raises\n",
      "    ------\n",
      "    ValueError\n",
      "        If the last dimension of `a` is not the same size as\n",
      "        the second-to-last dimension of `b`.\n",
      "    \n",
      "    See Also\n",
      "    --------\n",
      "    vdot : Complex-conjugating dot product.\n",
      "    tensordot : Sum products over arbitrary axes.\n",
      "    einsum : Einstein summation convention.\n",
      "    matmul : '@' operator as method with out parameter.\n",
      "    linalg.multi_dot : Chained dot product.\n",
      "    \n",
      "    Examples\n",
      "    --------\n",
      "    >>> np.dot(3, 4)\n",
      "    12\n",
      "    \n",
      "    Neither argument is complex-conjugated:\n",
      "    \n",
      "    >>> np.dot([2j, 3j], [2j, 3j])\n",
      "    (-13+0j)\n",
      "    \n",
      "    For 2-D arrays it is the matrix product:\n",
      "    \n",
      "    >>> a = [[1, 0], [0, 1]]\n",
      "    >>> b = [[4, 1], [2, 2]]\n",
      "    >>> np.dot(a, b)\n",
      "    array([[4, 1],\n",
      "           [2, 2]])\n",
      "    \n",
      "    >>> a = np.arange(3*4*5*6).reshape((3,4,5,6))\n",
      "    >>> b = np.arange(3*4*5*6)[::-1].reshape((5,4,6,3))\n",
      "    >>> np.dot(a, b)[2,3,2,1,2,2]\n",
      "    499128\n",
      "    >>> sum(a[2,3,2,:] * b[1,2,:,2])\n",
      "    499128\n",
      "\n"
     ]
    }
   ],
   "source": [
    "help(np.dot)"
   ]
  },
  {
   "cell_type": "code",
   "execution_count": 40,
   "id": "73b827bb-9b19-40f8-bcd1-0dd7afe5201a",
   "metadata": {},
   "outputs": [],
   "source": [
    "climate_data  = np.array([[73, 67, 43],[91, 88, 64], [87, 134, 58], [102, 43, 37], [69, 96, 70]])"
   ]
  },
  {
   "cell_type": "code",
   "execution_count": 42,
   "id": "699b02f8-0c33-4839-8203-520e15ea1c9d",
   "metadata": {},
   "outputs": [
    {
     "data": {
      "text/plain": [
       "array([[ 73,  67,  43],\n",
       "       [ 91,  88,  64],\n",
       "       [ 87, 134,  58],\n",
       "       [102,  43,  37],\n",
       "       [ 69,  96,  70]])"
      ]
     },
     "execution_count": 42,
     "metadata": {},
     "output_type": "execute_result"
    }
   ],
   "source": [
    "climate_data"
   ]
  },
  {
   "cell_type": "code",
   "execution_count": 44,
   "id": "34034186-384b-4a12-afe3-1dad42da597b",
   "metadata": {},
   "outputs": [
    {
     "data": {
      "text/plain": [
       "(5, 3)"
      ]
     },
     "execution_count": 44,
     "metadata": {},
     "output_type": "execute_result"
    }
   ],
   "source": [
    "climate_data.shape"
   ]
  },
  {
   "cell_type": "code",
   "execution_count": 46,
   "id": "9ef86e60-f473-4fc4-8d05-136110eebfb9",
   "metadata": {},
   "outputs": [
    {
     "data": {
      "text/plain": [
       "(3,)"
      ]
     },
     "execution_count": 46,
     "metadata": {},
     "output_type": "execute_result"
    }
   ],
   "source": [
    "weights.shape"
   ]
  },
  {
   "cell_type": "code",
   "execution_count": 48,
   "id": "20c7c88d-e9f4-4a56-afea-772398cfd59f",
   "metadata": {},
   "outputs": [
    {
     "data": {
      "text/plain": [
       "dtype('float64')"
      ]
     },
     "execution_count": 48,
     "metadata": {},
     "output_type": "execute_result"
    }
   ],
   "source": [
    "weights.dtype"
   ]
  },
  {
   "cell_type": "code",
   "execution_count": 50,
   "id": "5c949d12-47c6-41a7-8766-4494115f7e41",
   "metadata": {},
   "outputs": [
    {
     "data": {
      "text/plain": [
       "dtype('int64')"
      ]
     },
     "execution_count": 50,
     "metadata": {},
     "output_type": "execute_result"
    }
   ],
   "source": [
    "climate_data.dtype"
   ]
  },
  {
   "cell_type": "code",
   "execution_count": 52,
   "id": "96c8bd0e-df4d-41ea-b3b3-c0d18a518111",
   "metadata": {},
   "outputs": [
    {
     "data": {
      "text/plain": [
       "array([56.8, 76.9, 81.9, 57.7, 74.9])"
      ]
     },
     "execution_count": 52,
     "metadata": {},
     "output_type": "execute_result"
    }
   ],
   "source": [
    "np.matmul(climate_data, weights)"
   ]
  },
  {
   "cell_type": "code",
   "execution_count": 56,
   "id": "a13bff4d-8171-411c-a55f-826d7c9b68bd",
   "metadata": {},
   "outputs": [
    {
     "data": {
      "text/plain": [
       "array([56.8, 76.9, 81.9, 57.7, 74.9])"
      ]
     },
     "execution_count": 56,
     "metadata": {},
     "output_type": "execute_result"
    }
   ],
   "source": [
    "climate_data @ weights"
   ]
  },
  {
   "cell_type": "code",
   "execution_count": 60,
   "id": "7bba6ff6-b4b6-4c7d-8b3f-26b6cc44cfa8",
   "metadata": {},
   "outputs": [
    {
     "data": {
      "text/plain": [
       "('climate.txt', <http.client.HTTPMessage at 0x13cd46dd0>)"
      ]
     },
     "execution_count": 60,
     "metadata": {},
     "output_type": "execute_result"
    }
   ],
   "source": [
    "import urllib.request\n",
    "urllib.request.urlretrieve('https://gist.github.com/BirajCoder/a4ffcb76fd6fb221d76ac2ee2b8584e9/raw/4054f90adfd361b7aa4255e99c2e874664094cea/climate.csv', 'climate.txt')\n"
   ]
  },
  {
   "cell_type": "code",
   "execution_count": 62,
   "id": "52474d7b-886b-4777-b94d-2c9c5b0fe73d",
   "metadata": {},
   "outputs": [],
   "source": [
    "climate_data = np.genfromtxt('climate.txt', delimiter=',', skip_header=1)"
   ]
  },
  {
   "cell_type": "code",
   "execution_count": 64,
   "id": "7f40e79b-25f7-46ba-bc1a-fe9bee5aba6c",
   "metadata": {},
   "outputs": [
    {
     "data": {
      "text/plain": [
       "(10000, 3)"
      ]
     },
     "execution_count": 64,
     "metadata": {},
     "output_type": "execute_result"
    }
   ],
   "source": [
    "climate_data.shape"
   ]
  },
  {
   "cell_type": "code",
   "execution_count": 66,
   "id": "388d610a-df13-41e3-8d22-ddb4339f2b88",
   "metadata": {},
   "outputs": [],
   "source": [
    "yields = climate_data @ weights"
   ]
  },
  {
   "cell_type": "code",
   "execution_count": 68,
   "id": "ae1331de-cfdc-46f0-823b-60a22cf1dc4b",
   "metadata": {},
   "outputs": [
    {
     "data": {
      "text/plain": [
       "array([72.2, 59.7, 65.2, ..., 71.1, 80.7, 73.4])"
      ]
     },
     "execution_count": 68,
     "metadata": {},
     "output_type": "execute_result"
    }
   ],
   "source": [
    "yields"
   ]
  },
  {
   "cell_type": "code",
   "execution_count": 70,
   "id": "3bc82069-7527-4f51-a4da-7f777a858ef7",
   "metadata": {},
   "outputs": [
    {
     "data": {
      "text/plain": [
       "(10000,)"
      ]
     },
     "execution_count": 70,
     "metadata": {},
     "output_type": "execute_result"
    }
   ],
   "source": [
    "yields.shape"
   ]
  },
  {
   "cell_type": "code",
   "execution_count": 72,
   "id": "b288d518-5850-408d-8dea-11a2901485e2",
   "metadata": {},
   "outputs": [],
   "source": [
    "climate_results = np.concatenate((climate_data, yields.reshape(10000,1)), axis=1) "
   ]
  },
  {
   "cell_type": "code",
   "execution_count": 74,
   "id": "85830786-2925-4168-9de1-0b0b8dc59a5a",
   "metadata": {},
   "outputs": [
    {
     "data": {
      "text/plain": [
       "array([[25. , 76. , 99. , 72.2],\n",
       "       [39. , 65. , 70. , 59.7],\n",
       "       [59. , 45. , 77. , 65.2],\n",
       "       ...,\n",
       "       [99. , 62. , 58. , 71.1],\n",
       "       [70. , 71. , 91. , 80.7],\n",
       "       [92. , 39. , 76. , 73.4]])"
      ]
     },
     "execution_count": 74,
     "metadata": {},
     "output_type": "execute_result"
    }
   ],
   "source": [
    "climate_results"
   ]
  },
  {
   "cell_type": "code",
   "execution_count": 76,
   "id": "27256c40-59db-4241-8ddf-9790d698284c",
   "metadata": {},
   "outputs": [],
   "source": [
    "np.savetxt('climate_results.txt',climate_results,fmt='%.2f',header='temperature,rainfall,humidity,yield_apples',comments='')"
   ]
  },
  {
   "cell_type": "markdown",
   "id": "3e92e6be-12b2-45f0-9682-f3c787229586",
   "metadata": {},
   "source": [
    "# Arithmetic Operations and Broadcasting"
   ]
  },
  {
   "cell_type": "code",
   "execution_count": 79,
   "id": "3745f7a8-6735-4e5c-ac00-7e52444b36c2",
   "metadata": {},
   "outputs": [],
   "source": [
    "arr2 = np.array([[1, 2, 3, 4], \n",
    "                 [5, 6, 7, 8], \n",
    "                 [9, 1, 2, 3]])"
   ]
  },
  {
   "cell_type": "code",
   "execution_count": 81,
   "id": "2e82bcba-c6d7-4448-a789-e7fb3254e376",
   "metadata": {},
   "outputs": [],
   "source": [
    "arr3 = np.array([[11, 12, 13, 14], \n",
    "                 [15, 16, 17, 18], \n",
    "                 [19, 11, 12, 13]])"
   ]
  },
  {
   "cell_type": "code",
   "execution_count": 83,
   "id": "29f0a85a-4ec4-45c3-8f16-78a7aa1127d3",
   "metadata": {},
   "outputs": [
    {
     "data": {
      "text/plain": [
       "array([[ 2,  4,  6,  8],\n",
       "       [10, 12, 14, 16],\n",
       "       [18,  2,  4,  6]])"
      ]
     },
     "execution_count": 83,
     "metadata": {},
     "output_type": "execute_result"
    }
   ],
   "source": [
    "arr2 * 2"
   ]
  },
  {
   "cell_type": "markdown",
   "id": "43e783b2-d5e9-4895-937f-fcd70d39990b",
   "metadata": {},
   "source": [
    "# Array Indexing and Slicing"
   ]
  },
  {
   "cell_type": "code",
   "execution_count": 88,
   "id": "d5dc508a-9c20-491e-b3ea-598130318e8c",
   "metadata": {},
   "outputs": [
    {
     "data": {
      "text/plain": [
       "(3, 2, 4)"
      ]
     },
     "execution_count": 88,
     "metadata": {},
     "output_type": "execute_result"
    }
   ],
   "source": [
    "arr3 = np.array([\n",
    "    [[11, 12, 13, 14], \n",
    "     [13, 14, 15, 19]], \n",
    "    \n",
    "    [[15, 16, 17, 21], \n",
    "     [63, 92, 36, 18]], \n",
    "    \n",
    "    [[98, 32, 81, 23],      \n",
    "     [17, 18, 19.5, 43]]])\n",
    "\n",
    "arr3.shape"
   ]
  },
  {
   "cell_type": "code",
   "execution_count": 96,
   "id": "49c90556-148f-4b5a-98d4-662ad1f8bc77",
   "metadata": {},
   "outputs": [
    {
     "data": {
      "text/plain": [
       "11.0"
      ]
     },
     "execution_count": 96,
     "metadata": {},
     "output_type": "execute_result"
    }
   ],
   "source": [
    "# single element\n",
    "arr3[0,0,0]"
   ]
  },
  {
   "cell_type": "code",
   "execution_count": 100,
   "id": "d5668c40-daba-431c-92be-526fbdfd12dc",
   "metadata": {},
   "outputs": [
    {
     "data": {
      "text/plain": [
       "array([[[15., 16.]],\n",
       "\n",
       "       [[98., 32.]]])"
      ]
     },
     "execution_count": 100,
     "metadata": {},
     "output_type": "execute_result"
    }
   ],
   "source": [
    "# subarray using ranges\n",
    "arr3[1:, 0:1,:2]"
   ]
  },
  {
   "cell_type": "code",
   "execution_count": 104,
   "id": "9cbf7023-6795-4752-a84b-bf2c11fe00d9",
   "metadata": {},
   "outputs": [
    {
     "data": {
      "text/plain": [
       "array([[0.35106183, 0.37923929, 0.84497548],\n",
       "       [0.75674634, 0.95269368, 0.29303387],\n",
       "       [0.54258169, 0.84855153, 0.88551621],\n",
       "       [0.09179358, 0.25252357, 0.53958444],\n",
       "       [0.26530606, 0.36678306, 0.23105135]])"
      ]
     },
     "execution_count": 104,
     "metadata": {},
     "output_type": "execute_result"
    }
   ],
   "source": [
    "np.random.rand(5,3)"
   ]
  },
  {
   "cell_type": "code",
   "execution_count": 106,
   "id": "f535612c-15be-459d-b7be-32bb0e02e357",
   "metadata": {},
   "outputs": [
    {
     "data": {
      "text/plain": [
       "array([[1., 0., 0.],\n",
       "       [0., 1., 0.],\n",
       "       [0., 0., 1.]])"
      ]
     },
     "execution_count": 106,
     "metadata": {},
     "output_type": "execute_result"
    }
   ],
   "source": [
    "np.eye(3)"
   ]
  },
  {
   "cell_type": "code",
   "execution_count": 114,
   "id": "2b394962-dbbb-47ab-82a9-fbfebe1c37c8",
   "metadata": {},
   "outputs": [
    {
     "data": {
      "text/plain": [
       "array([ 3.,  6.,  9., 12., 15., 18., 21., 24., 27.])"
      ]
     },
     "execution_count": 114,
     "metadata": {},
     "output_type": "execute_result"
    }
   ],
   "source": [
    "np.linspace(3,27,9)"
   ]
  },
  {
   "cell_type": "code",
   "execution_count": 116,
   "id": "304c0c6b-c297-4a38-868c-4bee2e67f82d",
   "metadata": {},
   "outputs": [
    {
     "data": {
      "text/plain": [
       "array([[-0.97372551, -0.00831776,  0.01646385, -0.37044362, -0.14791769],\n",
       "       [ 1.67415536, -0.83701257, -0.77191277, -1.20085094,  0.71325765],\n",
       "       [ 0.07884225,  0.25310028,  1.96727368, -0.15300976, -1.04382757],\n",
       "       [-0.21796074,  1.27322396, -1.07360759, -0.66441874,  1.46681045]])"
      ]
     },
     "execution_count": 116,
     "metadata": {},
     "output_type": "execute_result"
    }
   ],
   "source": [
    "np.random.randn(4,5)"
   ]
  },
  {
   "cell_type": "code",
   "execution_count": 118,
   "id": "bfc0ebea-d620-4776-a4ae-6ef607ca13fa",
   "metadata": {},
   "outputs": [
    {
     "data": {
      "text/plain": [
       "array([[42, 42, 42],\n",
       "       [42, 42, 42]])"
      ]
     },
     "execution_count": 118,
     "metadata": {},
     "output_type": "execute_result"
    }
   ],
   "source": [
    "np.full([2,3],42)\n"
   ]
  },
  {
   "cell_type": "code",
   "execution_count": 30,
   "id": "6ea90ed5-f974-42f1-9586-ed6d007786b3",
   "metadata": {},
   "outputs": [
    {
     "data": {
      "text/plain": [
       "(27,)"
      ]
     },
     "execution_count": 30,
     "metadata": {},
     "output_type": "execute_result"
    }
   ],
   "source": [
    "np.arange(10,90,3).reshape\n"
   ]
  },
  {
   "cell_type": "markdown",
   "id": "6f360940-4277-4592-8167-70a696230948",
   "metadata": {},
   "source": [
    "# Interacting with the OS and filesystem"
   ]
  },
  {
   "cell_type": "code",
   "execution_count": 5,
   "id": "e76c4bd9-49be-49ee-86e0-5040cf9162d4",
   "metadata": {},
   "outputs": [],
   "source": [
    "import os"
   ]
  },
  {
   "cell_type": "code",
   "execution_count": 59,
   "id": "a9bef27c-014f-4765-b3df-690f2e8e5a2c",
   "metadata": {},
   "outputs": [
    {
     "data": {
      "text/plain": [
       "'/Users/oluwademilade/Desktop/Code/python/Data/Data-initium'"
      ]
     },
     "execution_count": 59,
     "metadata": {},
     "output_type": "execute_result"
    }
   ],
   "source": [
    "os.getcwd()"
   ]
  },
  {
   "cell_type": "code",
   "execution_count": 6,
   "id": "aea66175-18cf-4832-a37a-0708a9869c54",
   "metadata": {},
   "outputs": [
    {
     "data": {
      "text/plain": [
       "'/Users/oluwademilade/Desktop/Code/python/Data/Data-initium'"
      ]
     },
     "execution_count": 6,
     "metadata": {},
     "output_type": "execute_result"
    }
   ],
   "source": [
    "os.getcwd()"
   ]
  },
  {
   "cell_type": "code",
   "execution_count": 8,
   "id": "f3b91649-a8fd-40f1-952f-f97c1c23e5dc",
   "metadata": {},
   "outputs": [
    {
     "name": "stdout",
     "output_type": "stream",
     "text": [
      "Help on built-in function listdir in module posix:\n",
      "\n",
      "listdir(path=None)\n",
      "    Return a list containing the names of the files in the directory.\n",
      "    \n",
      "    path can be specified as either str, bytes, or a path-like object.  If path is bytes,\n",
      "      the filenames returned will also be bytes; in all other circumstances\n",
      "      the filenames returned will be str.\n",
      "    If path is None, uses the path='.'.\n",
      "    On some platforms, path may also be specified as an open file descriptor;\\\n",
      "      the file descriptor must refer to a directory.\n",
      "      If this functionality is unavailable, using it raises NotImplementedError.\n",
      "    \n",
      "    The list is in arbitrary order.  It does not include the special\n",
      "    entries '.' and '..' even if they are present in the directory.\n",
      "\n"
     ]
    }
   ],
   "source": [
    "help(os.listdir)"
   ]
  },
  {
   "cell_type": "code",
   "execution_count": 7,
   "id": "8056951f-a7f7-4c11-af78-2517c2779510",
   "metadata": {},
   "outputs": [
    {
     "data": {
      "text/plain": [
       "['numpy_basics.ipynb',\n",
       " 'climate.txt',\n",
       " '.gitignore',\n",
       " '.ipynb_checkpoints',\n",
       " '.git',\n",
       " 'climate_results.txt']"
      ]
     },
     "execution_count": 7,
     "metadata": {},
     "output_type": "execute_result"
    }
   ],
   "source": [
    "os.listdir('.')"
   ]
  },
  {
   "cell_type": "code",
   "execution_count": 11,
   "id": "e69990a0-648d-477a-af42-2da8cfb86c45",
   "metadata": {},
   "outputs": [
    {
     "name": "stdout",
     "output_type": "stream",
     "text": [
      "Help on function makedirs in module os:\n",
      "\n",
      "makedirs(name, mode=511, exist_ok=False)\n",
      "    makedirs(name [, mode=0o777][, exist_ok=False])\n",
      "    \n",
      "    Super-mkdir; create a leaf directory and all intermediate ones.  Works like\n",
      "    mkdir, except that any intermediate path segment (not just the rightmost)\n",
      "    will be created if it does not exist. If the target directory already\n",
      "    exists, raise an OSError if exist_ok is False. Otherwise no exception is\n",
      "    raised.  This is recursive.\n",
      "\n"
     ]
    }
   ],
   "source": [
    "help(os.makedirs)"
   ]
  },
  {
   "cell_type": "code",
   "execution_count": 15,
   "id": "aa458e5b-f90a-45e2-a027-e6151410d632",
   "metadata": {},
   "outputs": [],
   "source": [
    "os.makedirs('./data', exist_ok=True)"
   ]
  },
  {
   "cell_type": "code",
   "execution_count": 19,
   "id": "edbd32d8-b53c-468f-a539-023d473d1770",
   "metadata": {},
   "outputs": [
    {
     "data": {
      "text/plain": [
       "True"
      ]
     },
     "execution_count": 19,
     "metadata": {},
     "output_type": "execute_result"
    }
   ],
   "source": [
    "'data' in os.listdir('.')"
   ]
  },
  {
   "cell_type": "code",
   "execution_count": 21,
   "id": "76ae7fca-66fd-4a1f-8918-9560d3df5aac",
   "metadata": {},
   "outputs": [
    {
     "data": {
      "text/plain": [
       "[]"
      ]
     },
     "execution_count": 21,
     "metadata": {},
     "output_type": "execute_result"
    }
   ],
   "source": [
    "os.listdir('./data')"
   ]
  },
  {
   "cell_type": "code",
   "execution_count": 29,
   "id": "ce078dcc-0e07-4e7f-b800-7c55949f4bcd",
   "metadata": {},
   "outputs": [],
   "source": [
    "url1 = 'https://gist.githubusercontent.com/aakashns/257f6e6c8719c17d0e498ea287d1a386/raw/7def9ef4234ddf0bc82f855ad67dac8b971852ef/loans1.txt'\n",
    "url2 = 'https://gist.githubusercontent.com/aakashns/257f6e6c8719c17d0e498ea287d1a386/raw/7def9ef4234ddf0bc82f855ad67dac8b971852ef/loans2.txt'\n",
    "url3 = 'https://gist.githubusercontent.com/aakashns/257f6e6c8719c17d0e498ea287d1a386/raw/7def9ef4234ddf0bc82f855ad67dac8b971852ef/loans3.txt'"
   ]
  },
  {
   "cell_type": "code",
   "execution_count": 23,
   "id": "585a41f6-f90e-4808-a115-9604307090f9",
   "metadata": {},
   "outputs": [],
   "source": [
    "from urllib.request import urlretrieve"
   ]
  },
  {
   "cell_type": "code",
   "execution_count": 31,
   "id": "1577ae5f-68dd-4251-b3d6-ad7889b521f3",
   "metadata": {},
   "outputs": [
    {
     "data": {
      "text/plain": [
       "('./data/loans3.txt', <http.client.HTTPMessage at 0x13545e0d0>)"
      ]
     },
     "execution_count": 31,
     "metadata": {},
     "output_type": "execute_result"
    }
   ],
   "source": [
    "urlretrieve(url1, './data/loans1.txt')\n",
    "urlretrieve(url2, './data/loans2.txt')\n",
    "urlretrieve(url3, './data/loans3.txt')"
   ]
  },
  {
   "cell_type": "code",
   "execution_count": 33,
   "id": "f8dc8f97-aa3e-434f-b953-a1e403df3874",
   "metadata": {},
   "outputs": [
    {
     "data": {
      "text/plain": [
       "['loans2.txt', 'loans3.txt', 'loans1.txt']"
      ]
     },
     "execution_count": 33,
     "metadata": {},
     "output_type": "execute_result"
    }
   ],
   "source": [
    "os.listdir('./data')"
   ]
  },
  {
   "cell_type": "markdown",
   "id": "88595697-ed56-4676-896f-a006939fe66c",
   "metadata": {},
   "source": [
    "# Reading from a file "
   ]
  },
  {
   "cell_type": "code",
   "execution_count": 36,
   "id": "42eb9220-e664-49df-8224-30c268b7dbbc",
   "metadata": {},
   "outputs": [],
   "source": [
    "file1 = open('./data/loans1.txt', mode='r')"
   ]
  },
  {
   "cell_type": "code",
   "execution_count": 38,
   "id": "e4753390-a5c6-4402-becd-e4869cff2494",
   "metadata": {},
   "outputs": [],
   "source": [
    "file_content =file1.read()"
   ]
  },
  {
   "cell_type": "code",
   "execution_count": 44,
   "id": "70abd243-fa1d-4946-8566-083987aee326",
   "metadata": {},
   "outputs": [
    {
     "name": "stdout",
     "output_type": "stream",
     "text": [
      "amount,duration,rate,down_payment\n",
      "100000,36,0.08,20000\n",
      "200000,12,0.1,\n",
      "628400,120,0.12,100000\n",
      "4637400,240,0.06,\n",
      "42900,90,0.07,8900\n",
      "916000,16,0.13,\n",
      "45230,48,0.08,4300\n",
      "991360,99,0.08,\n",
      "423000,27,0.09,47200\n"
     ]
    }
   ],
   "source": [
    "print(file_content)"
   ]
  },
  {
   "cell_type": "code",
   "execution_count": 42,
   "id": "6c9fa338-0ef1-4691-8c97-8a63bd73e7ef",
   "metadata": {},
   "outputs": [],
   "source": [
    "file1.close()"
   ]
  },
  {
   "cell_type": "code",
   "execution_count": 50,
   "id": "c8078fe6-9a1d-46fb-b961-4fc09e028b17",
   "metadata": {},
   "outputs": [
    {
     "name": "stdout",
     "output_type": "stream",
     "text": [
      "amount,duration,rate,down_payment\n",
      "100000,36,0.08,20000\n",
      "200000,12,0.1,\n",
      "628400,120,0.12,100000\n",
      "4637400,240,0.06,\n",
      "42900,90,0.07,8900\n",
      "916000,16,0.13,\n",
      "45230,48,0.08,4300\n",
      "991360,99,0.08,\n",
      "423000,27,0.09,47200\n"
     ]
    }
   ],
   "source": [
    "with open('./data/loans1.txt', 'r') as file2:\n",
    "    file_content = file2.read()\n",
    "    print(file_content)"
   ]
  },
  {
   "cell_type": "markdown",
   "id": "3bf802ae-f849-4f76-a9aa-105d58736646",
   "metadata": {},
   "source": [
    "# Reading files as lines"
   ]
  },
  {
   "cell_type": "code",
   "execution_count": 55,
   "id": "2abd40de-040a-4a52-ad24-fc4e4cefed4f",
   "metadata": {},
   "outputs": [
    {
     "name": "stdout",
     "output_type": "stream",
     "text": [
      "['amount,duration,rate,down_payment\\n', '45230,48,0.07,4300\\n', '883000,16,0.14,\\n', '100000,12,0.1,\\n', '728400,120,0.12,100000\\n', '3637400,240,0.06,\\n', '82900,90,0.07,8900\\n', '316000,16,0.13,\\n', '15230,48,0.08,4300\\n', '991360,99,0.08,\\n', '323000,27,0.09,4720010000,36,0.08,20000\\n', '528400,120,0.11,100000\\n', '8633400,240,0.06,\\n', '12900,90,0.08,8900']\n"
     ]
    }
   ],
   "source": [
    "with open('./data/loans3.txt', 'r') as file3:\n",
    "    file3_content = file3.readlines()\n",
    "    print(file3_content)"
   ]
  },
  {
   "cell_type": "code",
   "execution_count": 57,
   "id": "64869bb3-b7d4-4c53-9327-19b4a87f0c02",
   "metadata": {},
   "outputs": [
    {
     "data": {
      "text/plain": [
       "'amount,duration,rate,down_payment'"
      ]
     },
     "execution_count": 57,
     "metadata": {},
     "output_type": "execute_result"
    }
   ],
   "source": [
    "file3_content[0].strip()"
   ]
  },
  {
   "cell_type": "code",
   "execution_count": 63,
   "id": "c21253ff-895d-4dd7-81f8-2af2261f0433",
   "metadata": {},
   "outputs": [],
   "source": [
    "def parse_headers(header_line):\n",
    "    return header_line.strip().split(',')"
   ]
  },
  {
   "cell_type": "code",
   "execution_count": 65,
   "id": "c101ff53-571d-4e46-a219-fdc220033903",
   "metadata": {},
   "outputs": [
    {
     "data": {
      "text/plain": [
       "['amount', 'duration', 'rate', 'down_payment']"
      ]
     },
     "execution_count": 65,
     "metadata": {},
     "output_type": "execute_result"
    }
   ],
   "source": [
    "parse_headers(file3_content[0])"
   ]
  },
  {
   "cell_type": "code",
   "execution_count": 83,
   "id": "93ff41ab-5e2d-4114-af9c-3679b7544682",
   "metadata": {},
   "outputs": [],
   "source": [
    "def parse_values(data_line):\n",
    "    return [float(item) for item in data_line.strip().split(',') if item != '']"
   ]
  },
  {
   "cell_type": "code",
   "execution_count": 79,
   "id": "1c7c857c-edf5-40ea-9842-9feb7bd17155",
   "metadata": {},
   "outputs": [
    {
     "data": {
      "text/plain": [
       "[45230.0, 48.0, 0.07, 4300.0]"
      ]
     },
     "execution_count": 79,
     "metadata": {},
     "output_type": "execute_result"
    }
   ],
   "source": [
    "parse_values(file3_content[1])"
   ]
  },
  {
   "cell_type": "code",
   "execution_count": 73,
   "id": "91550133-5981-4e78-aaef-9cb18f99b5f5",
   "metadata": {},
   "outputs": [
    {
     "data": {
      "text/plain": [
       "'45230,48,0.07,4300\\n'"
      ]
     },
     "execution_count": 73,
     "metadata": {},
     "output_type": "execute_result"
    }
   ],
   "source": [
    "file3_content[1]"
   ]
  },
  {
   "cell_type": "code",
   "execution_count": 85,
   "id": "e7ade52a-d207-4090-9d66-2c622a2ffdb4",
   "metadata": {},
   "outputs": [
    {
     "data": {
      "text/plain": [
       "[883000.0, 16.0, 0.14]"
      ]
     },
     "execution_count": 85,
     "metadata": {},
     "output_type": "execute_result"
    }
   ],
   "source": [
    "parse_values(file3_content[2])"
   ]
  },
  {
   "cell_type": "code",
   "execution_count": 109,
   "id": "bddcbe9d-2bb9-49a5-a1dd-235624ef0095",
   "metadata": {},
   "outputs": [],
   "source": [
    "def create_dict_item(value,header):\n",
    "    return {header:value for (value,header) in zip(value,header)}"
   ]
  },
  {
   "cell_type": "code",
   "execution_count": 143,
   "id": "7a9bde15-fb70-4d23-8380-eb41edd3b9f5",
   "metadata": {},
   "outputs": [
    {
     "data": {
      "text/plain": [
       "{'amount': 100000.0, 'duration': 12.0, 'rate': 0.1}"
      ]
     },
     "execution_count": 143,
     "metadata": {},
     "output_type": "execute_result"
    }
   ],
   "source": [
    "create_dict_item(parse_values(file3_content[3]), parse_headers(file3_content[0]))"
   ]
  },
  {
   "cell_type": "code",
   "execution_count": 155,
   "id": "2802a0fb-05c7-417d-b9d4-560d661712ec",
   "metadata": {},
   "outputs": [],
   "source": [
    "def read_csv(path):\n",
    "    with open(path,'r') as f:\n",
    "        \n",
    "        lines = f.readlines()\n",
    "        headers = parse_headers(lines[0])\n",
    "        \n",
    "        result = [create_dict_item(parse_values(data_line), headers) for data_line in lines[1:]]\n",
    "        return result"
   ]
  },
  {
   "cell_type": "code",
   "execution_count": 157,
   "id": "71faddb2-6566-4903-b143-2e84b12a6b0b",
   "metadata": {},
   "outputs": [
    {
     "data": {
      "text/plain": [
       "[{'amount': 45230.0, 'duration': 48.0, 'rate': 0.07, 'down_payment': 4300.0},\n",
       " {'amount': 883000.0, 'duration': 16.0, 'rate': 0.14},\n",
       " {'amount': 100000.0, 'duration': 12.0, 'rate': 0.1},\n",
       " {'amount': 728400.0,\n",
       "  'duration': 120.0,\n",
       "  'rate': 0.12,\n",
       "  'down_payment': 100000.0},\n",
       " {'amount': 3637400.0, 'duration': 240.0, 'rate': 0.06},\n",
       " {'amount': 82900.0, 'duration': 90.0, 'rate': 0.07, 'down_payment': 8900.0},\n",
       " {'amount': 316000.0, 'duration': 16.0, 'rate': 0.13},\n",
       " {'amount': 15230.0, 'duration': 48.0, 'rate': 0.08, 'down_payment': 4300.0},\n",
       " {'amount': 991360.0, 'duration': 99.0, 'rate': 0.08},\n",
       " {'amount': 323000.0,\n",
       "  'duration': 27.0,\n",
       "  'rate': 0.09,\n",
       "  'down_payment': 4720010000.0},\n",
       " {'amount': 528400.0,\n",
       "  'duration': 120.0,\n",
       "  'rate': 0.11,\n",
       "  'down_payment': 100000.0},\n",
       " {'amount': 8633400.0, 'duration': 240.0, 'rate': 0.06},\n",
       " {'amount': 12900.0, 'duration': 90.0, 'rate': 0.08, 'down_payment': 8900.0}]"
      ]
     },
     "execution_count": 157,
     "metadata": {},
     "output_type": "execute_result"
    }
   ],
   "source": [
    "read_csv('./data/loans3.txt')"
   ]
  },
  {
   "cell_type": "code",
   "execution_count": 159,
   "id": "3a74f403-6203-4c1f-b739-d80e68d58d9a",
   "metadata": {},
   "outputs": [],
   "source": [
    "import math\n",
    "\n",
    "def loan_emi(amount, duration, rate, down_payment=0):\n",
    "    loan_amount = amount - down_payment\n",
    "\n",
    "    try:\n",
    "        emi= loan_amount * rate * ((1+rate)**duration) / (((1+rate)**duration)-1)\n",
    "    except ZeroDivisionError:\n",
    "        emi = loan_amount / duration\n",
    "\n",
    "    emi= math.ceil(emi)\n",
    "    return emi"
   ]
  },
  {
   "cell_type": "code",
   "execution_count": 197,
   "id": "ed4a239d-6598-4fb8-a811-299bfb704c6c",
   "metadata": {},
   "outputs": [
    {
     "data": {
      "text/plain": [
       "[{'amount': 100000.0, 'duration': 36.0, 'rate': 0.08, 'down_payment': 20000.0},\n",
       " {'amount': 200000.0, 'duration': 12.0, 'rate': 0.1},\n",
       " {'amount': 628400.0,\n",
       "  'duration': 120.0,\n",
       "  'rate': 0.12,\n",
       "  'down_payment': 100000.0},\n",
       " {'amount': 4637400.0, 'duration': 240.0, 'rate': 0.06},\n",
       " {'amount': 42900.0, 'duration': 90.0, 'rate': 0.07, 'down_payment': 8900.0},\n",
       " {'amount': 916000.0, 'duration': 16.0, 'rate': 0.13},\n",
       " {'amount': 45230.0, 'duration': 48.0, 'rate': 0.08, 'down_payment': 4300.0},\n",
       " {'amount': 991360.0, 'duration': 99.0, 'rate': 0.08},\n",
       " {'amount': 423000.0, 'duration': 27.0, 'rate': 0.09, 'down_payment': 47200.0}]"
      ]
     },
     "execution_count": 197,
     "metadata": {},
     "output_type": "execute_result"
    }
   ],
   "source": [
    "loans1= read_csv('./data/loans1.txt')\n",
    "loans1"
   ]
  },
  {
   "cell_type": "code",
   "execution_count": 209,
   "id": "bc32eecd-602e-45e5-a045-da26d6af7725",
   "metadata": {},
   "outputs": [
    {
     "data": {
      "text/plain": [
       "[{'amount': 100000.0,\n",
       "  'duration': 36.0,\n",
       "  'rate': 0.08,\n",
       "  'down_payment': 20000.0,\n",
       "  'emi': 2507},\n",
       " {'amount': 200000.0, 'duration': 12.0, 'rate': 0.1, 'emi': 17584},\n",
       " {'amount': 628400.0,\n",
       "  'duration': 120.0,\n",
       "  'rate': 0.12,\n",
       "  'down_payment': 100000.0,\n",
       "  'emi': 7582},\n",
       " {'amount': 4637400.0, 'duration': 240.0, 'rate': 0.06, 'emi': 33224},\n",
       " {'amount': 42900.0,\n",
       "  'duration': 90.0,\n",
       "  'rate': 0.07,\n",
       "  'down_payment': 8900.0,\n",
       "  'emi': 487},\n",
       " {'amount': 916000.0, 'duration': 16.0, 'rate': 0.13, 'emi': 62664},\n",
       " {'amount': 45230.0,\n",
       "  'duration': 48.0,\n",
       "  'rate': 0.08,\n",
       "  'down_payment': 4300.0,\n",
       "  'emi': 1000},\n",
       " {'amount': 991360.0, 'duration': 99.0, 'rate': 0.08, 'emi': 13712},\n",
       " {'amount': 423000.0,\n",
       "  'duration': 27.0,\n",
       "  'rate': 0.09,\n",
       "  'down_payment': 47200.0,\n",
       "  'emi': 15428}]"
      ]
     },
     "execution_count": 209,
     "metadata": {},
     "output_type": "execute_result"
    }
   ],
   "source": [
    "loans1=[{**loan, 'emi':loan_emi(loan['amount'], loan['duration'], loan['rate']/12,loan.get('down_payment',0))} for loan in loans1]\n",
    "loans1"
   ]
  },
  {
   "cell_type": "code",
   "execution_count": 222,
   "id": "e2f74bed-4508-4c8e-a416-269e641a3a4b",
   "metadata": {},
   "outputs": [],
   "source": [
    "def compute_emi(loans):\n",
    "    loans = [{**loan, 'emi':loan_emi(loan['amount'], loan['duration'], loan['rate']/12, loan.get('down_payment',0))} for loan in loans]\n",
    "    return loans"
   ]
  },
  {
   "cell_type": "markdown",
   "id": "a6daa30e-712c-4f72-b56f-da1723d4c71b",
   "metadata": {},
   "source": [
    "# Writing to Files"
   ]
  },
  {
   "cell_type": "code",
   "execution_count": 230,
   "id": "1d3d946a-1b38-4b9b-8a71-2e809dc27741",
   "metadata": {},
   "outputs": [],
   "source": [
    "loans2 = read_csv('./data/loans2.txt')\n"
   ]
  },
  {
   "cell_type": "code",
   "execution_count": 236,
   "id": "e580813a-f950-4121-a702-e4295cf2c629",
   "metadata": {},
   "outputs": [],
   "source": [
    "loans2=compute_emi(loans2)"
   ]
  },
  {
   "cell_type": "code",
   "execution_count": 238,
   "id": "48c3699d-f448-482f-8701-5b5351fdc04a",
   "metadata": {},
   "outputs": [
    {
     "data": {
      "text/plain": [
       "[{'amount': 828400.0,\n",
       "  'duration': 120.0,\n",
       "  'rate': 0.11,\n",
       "  'down_payment': 100000.0,\n",
       "  'emi': 10034},\n",
       " {'amount': 4633400.0, 'duration': 240.0, 'rate': 0.06, 'emi': 33196},\n",
       " {'amount': 42900.0,\n",
       "  'duration': 90.0,\n",
       "  'rate': 0.08,\n",
       "  'down_payment': 8900.0,\n",
       "  'emi': 504},\n",
       " {'amount': 983000.0, 'duration': 16.0, 'rate': 0.14, 'emi': 67707},\n",
       " {'amount': 15230.0,\n",
       "  'duration': 48.0,\n",
       "  'rate': 0.07,\n",
       "  'down_payment': 4300.0,\n",
       "  'emi': 262}]"
      ]
     },
     "execution_count": 238,
     "metadata": {},
     "output_type": "execute_result"
    }
   ],
   "source": [
    "loans2"
   ]
  },
  {
   "cell_type": "code",
   "execution_count": 246,
   "id": "5f46e9ff-4fe9-4e7d-8bdf-794dcda7a272",
   "metadata": {},
   "outputs": [],
   "source": [
    "with open('./data/loans2.txt', 'w') as file:\n",
    "    [file.write('{},{},{},{},{}\\n'.format(loan['amount'],loan['duration'],loan['rate'],loan.get('down_payment',0),loan['emi'])) for loan in loans2]"
   ]
  },
  {
   "cell_type": "code",
   "execution_count": 248,
   "id": "4dd8fa48-9864-406c-8878-0414ea658ef2",
   "metadata": {},
   "outputs": [
    {
     "name": "stdout",
     "output_type": "stream",
     "text": [
      "828400.0,120.0,0.11,100000.0,10034\n",
      "4633400.0,240.0,0.06,0,33196\n",
      "42900.0,90.0,0.08,8900.0,504\n",
      "983000.0,16.0,0.14,0,67707\n",
      "15230.0,48.0,0.07,4300.0,262\n",
      "\n"
     ]
    }
   ],
   "source": [
    "with  open('./data/loans2.txt', 'r') as file2:\n",
    "    print(file2.read())"
   ]
  },
  {
   "cell_type": "code",
   "execution_count": 250,
   "id": "bbc639b9-544d-4ad9-8337-13b5b530795d",
   "metadata": {},
   "outputs": [],
   "source": [
    "def write_csv(items,path):\n",
    "    with open(path, 'w') as file:\n",
    "        if len(items) == 0:\n",
    "            return\n",
    "        headers = list(item[0].keys())\n",
    "        file.write(','.join(headers)+'\\n')\n",
    "\n",
    "        for item in items:\n",
    "            file.write(','.join([str(item.get(header,\"\")) for header in headers])+ \"\\n\")"
   ]
  },
  {
   "cell_type": "code",
   "execution_count": null,
   "id": "023fd1b0-8cb6-4f58-9a73-8407d4cd7b6e",
   "metadata": {},
   "outputs": [],
   "source": []
  }
 ],
 "metadata": {
  "kernelspec": {
   "display_name": "Python 3 (ipykernel)",
   "language": "python",
   "name": "python3"
  },
  "language_info": {
   "codemirror_mode": {
    "name": "ipython",
    "version": 3
   },
   "file_extension": ".py",
   "mimetype": "text/x-python",
   "name": "python",
   "nbconvert_exporter": "python",
   "pygments_lexer": "ipython3",
   "version": "3.11.7"
  }
 },
 "nbformat": 4,
 "nbformat_minor": 5
}
